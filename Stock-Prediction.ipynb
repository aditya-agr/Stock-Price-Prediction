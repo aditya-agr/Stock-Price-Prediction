{
 "cells": [
  {
   "cell_type": "code",
   "execution_count": 1,
   "metadata": {},
   "outputs": [],
   "source": [
    "import pandas as pd\n",
    "import numpy as np\n",
    "from matplotlib import pyplot as plt\n",
    "from sklearn import model_selection\n",
    "from sklearn.metrics import confusion_matrix\n",
    "from sklearn.preprocessing import StandardScaler\n",
    "from sklearn.model_selection import train_test_split\n",
    "from sklearn.preprocessing import MinMaxScaler\n",
    "from keras.models import Sequential\n",
    "from keras.layers import Dense\n",
    "from keras.layers import LSTM\n",
    "from keras.layers import Dropout"
   ]
  },
  {
   "cell_type": "code",
   "execution_count": 2,
   "metadata": {},
   "outputs": [
    {
     "data": {
      "text/html": [
       "<div>\n",
       "<style scoped>\n",
       "    .dataframe tbody tr th:only-of-type {\n",
       "        vertical-align: middle;\n",
       "    }\n",
       "\n",
       "    .dataframe tbody tr th {\n",
       "        vertical-align: top;\n",
       "    }\n",
       "\n",
       "    .dataframe thead th {\n",
       "        text-align: right;\n",
       "    }\n",
       "</style>\n",
       "<table border=\"1\" class=\"dataframe\">\n",
       "  <thead>\n",
       "    <tr style=\"text-align: right;\">\n",
       "      <th></th>\n",
       "      <th>Date</th>\n",
       "      <th>Open</th>\n",
       "      <th>High</th>\n",
       "      <th>Low</th>\n",
       "      <th>Close</th>\n",
       "      <th>Volume</th>\n",
       "    </tr>\n",
       "  </thead>\n",
       "  <tbody>\n",
       "  </tbody>\n",
       "</table>\n",
       "</div>"
      ],
      "text/plain": [
       "Empty DataFrame\n",
       "Columns: [Date, Open, High, Low, Close, Volume]\n",
       "Index: []"
      ]
     },
     "execution_count": 2,
     "metadata": {},
     "output_type": "execute_result"
    }
   ],
   "source": [
    "df=pd.read_csv(r'C:\\Users\\agr20\\Downloads\\Handwritten digit recognizer\\stock_predict\\Aditya_Birla.csv')\n",
    "df.head(0)"
   ]
  },
  {
   "cell_type": "code",
   "execution_count": 3,
   "metadata": {},
   "outputs": [],
   "source": [
    "training = df.iloc[:300, 1:2].values\n",
    "testing = df.iloc[300:, 1:2].values"
   ]
  },
  {
   "cell_type": "code",
   "execution_count": 4,
   "metadata": {},
   "outputs": [],
   "source": [
    "sc = MinMaxScaler(feature_range = (0, 1))\n",
    "training_scaled = sc.fit_transform(training)"
   ]
  },
  {
   "cell_type": "code",
   "execution_count": 5,
   "metadata": {},
   "outputs": [],
   "source": [
    "x_train = []\n",
    "y_train = []\n",
    "for iter in range(1, 300):\n",
    "    x_train.append(training_scaled[iter-1:iter, 0])\n",
    "    y_train.append(training_scaled[iter, 0])\n",
    "x_train, y_train=np.array(x_train), np.array(y_train)\n",
    "x_train = np.reshape(x_train, (x_train.shape[0], x_train.shape[1], 1))"
   ]
  },
  {
   "cell_type": "code",
   "execution_count": 6,
   "metadata": {},
   "outputs": [
    {
     "name": "stdout",
     "output_type": "stream",
     "text": [
      "Epoch 1/100\n",
      "10/10 [==============================] - 17s 18ms/step - loss: 0.2492\n",
      "Epoch 2/100\n",
      "10/10 [==============================] - 0s 17ms/step - loss: 0.2149\n",
      "Epoch 3/100\n",
      "10/10 [==============================] - 0s 16ms/step - loss: 0.1661\n",
      "Epoch 4/100\n",
      "10/10 [==============================] - 0s 18ms/step - loss: 0.1021\n",
      "Epoch 5/100\n",
      "10/10 [==============================] - 0s 16ms/step - loss: 0.0514\n",
      "Epoch 6/100\n",
      "10/10 [==============================] - 0s 19ms/step - loss: 0.0528\n",
      "Epoch 7/100\n",
      "10/10 [==============================] - 0s 17ms/step - loss: 0.0436\n",
      "Epoch 8/100\n",
      "10/10 [==============================] - 0s 20ms/step - loss: 0.0353\n",
      "Epoch 9/100\n",
      "10/10 [==============================] - 0s 22ms/step - loss: 0.0281\n",
      "Epoch 10/100\n",
      "10/10 [==============================] - 0s 17ms/step - loss: 0.0209\n",
      "Epoch 11/100\n",
      "10/10 [==============================] - 0s 19ms/step - loss: 0.0139\n",
      "Epoch 12/100\n",
      "10/10 [==============================] - 0s 21ms/step - loss: 0.0121\n",
      "Epoch 13/100\n",
      "10/10 [==============================] - 0s 21ms/step - loss: 0.0115\n",
      "Epoch 14/100\n",
      "10/10 [==============================] - 0s 20ms/step - loss: 0.0097\n",
      "Epoch 15/100\n",
      "10/10 [==============================] - 0s 21ms/step - loss: 0.0099\n",
      "Epoch 16/100\n",
      "10/10 [==============================] - 0s 19ms/step - loss: 0.0091\n",
      "Epoch 17/100\n",
      "10/10 [==============================] - 0s 19ms/step - loss: 0.0088\n",
      "Epoch 18/100\n",
      "10/10 [==============================] - 0s 19ms/step - loss: 0.0076\n",
      "Epoch 19/100\n",
      "10/10 [==============================] - 0s 20ms/step - loss: 0.0070\n",
      "Epoch 20/100\n",
      "10/10 [==============================] - 0s 21ms/step - loss: 0.0085\n",
      "Epoch 21/100\n",
      "10/10 [==============================] - 0s 17ms/step - loss: 0.0086\n",
      "Epoch 22/100\n",
      "10/10 [==============================] - 0s 19ms/step - loss: 0.0081\n",
      "Epoch 23/100\n",
      "10/10 [==============================] - 0s 26ms/step - loss: 0.0081\n",
      "Epoch 24/100\n",
      "10/10 [==============================] - 0s 25ms/step - loss: 0.0074\n",
      "Epoch 25/100\n",
      "10/10 [==============================] - 0s 18ms/step - loss: 0.0065\n",
      "Epoch 26/100\n",
      "10/10 [==============================] - 0s 21ms/step - loss: 0.0071\n",
      "Epoch 27/100\n",
      "10/10 [==============================] - 0s 20ms/step - loss: 0.0071\n",
      "Epoch 28/100\n",
      "10/10 [==============================] - 0s 20ms/step - loss: 0.0083\n",
      "Epoch 29/100\n",
      "10/10 [==============================] - 0s 19ms/step - loss: 0.0063\n",
      "Epoch 30/100\n",
      "10/10 [==============================] - 0s 19ms/step - loss: 0.0058\n",
      "Epoch 31/100\n",
      "10/10 [==============================] - 0s 19ms/step - loss: 0.0072\n",
      "Epoch 32/100\n",
      "10/10 [==============================] - 0s 17ms/step - loss: 0.0058\n",
      "Epoch 33/100\n",
      "10/10 [==============================] - 0s 16ms/step - loss: 0.0067\n",
      "Epoch 34/100\n",
      "10/10 [==============================] - 0s 20ms/step - loss: 0.0057\n",
      "Epoch 35/100\n",
      "10/10 [==============================] - 0s 19ms/step - loss: 0.0055\n",
      "Epoch 36/100\n",
      "10/10 [==============================] - 0s 17ms/step - loss: 0.0057\n",
      "Epoch 37/100\n",
      "10/10 [==============================] - 0s 18ms/step - loss: 0.0054\n",
      "Epoch 38/100\n",
      "10/10 [==============================] - 0s 18ms/step - loss: 0.0050\n",
      "Epoch 39/100\n",
      "10/10 [==============================] - 0s 17ms/step - loss: 0.0050\n",
      "Epoch 40/100\n",
      "10/10 [==============================] - 0s 20ms/step - loss: 0.0059\n",
      "Epoch 41/100\n",
      "10/10 [==============================] - 0s 17ms/step - loss: 0.0061\n",
      "Epoch 42/100\n",
      "10/10 [==============================] - 0s 18ms/step - loss: 0.0045\n",
      "Epoch 43/100\n",
      "10/10 [==============================] - 0s 19ms/step - loss: 0.0054\n",
      "Epoch 44/100\n",
      "10/10 [==============================] - 0s 28ms/step - loss: 0.0046\n",
      "Epoch 45/100\n",
      "10/10 [==============================] - 0s 29ms/step - loss: 0.0062\n",
      "Epoch 46/100\n",
      "10/10 [==============================] - 0s 19ms/step - loss: 0.0042\n",
      "Epoch 47/100\n",
      "10/10 [==============================] - 0s 21ms/step - loss: 0.0051\n",
      "Epoch 48/100\n",
      "10/10 [==============================] - 0s 21ms/step - loss: 0.0054\n",
      "Epoch 49/100\n",
      "10/10 [==============================] - 0s 18ms/step - loss: 0.0058\n",
      "Epoch 50/100\n",
      "10/10 [==============================] - 0s 17ms/step - loss: 0.0049\n",
      "Epoch 51/100\n",
      "10/10 [==============================] - 0s 19ms/step - loss: 0.0045\n",
      "Epoch 52/100\n",
      "10/10 [==============================] - 0s 24ms/step - loss: 0.0050\n",
      "Epoch 53/100\n",
      "10/10 [==============================] - 0s 20ms/step - loss: 0.0050\n",
      "Epoch 54/100\n",
      "10/10 [==============================] - 0s 26ms/step - loss: 0.0054\n",
      "Epoch 55/100\n",
      "10/10 [==============================] - 0s 19ms/step - loss: 0.0049\n",
      "Epoch 56/100\n",
      "10/10 [==============================] - 0s 20ms/step - loss: 0.0039\n",
      "Epoch 57/100\n",
      "10/10 [==============================] - 0s 18ms/step - loss: 0.0043\n",
      "Epoch 58/100\n",
      "10/10 [==============================] - 0s 25ms/step - loss: 0.0054\n",
      "Epoch 59/100\n",
      "10/10 [==============================] - 0s 22ms/step - loss: 0.0041\n",
      "Epoch 60/100\n",
      "10/10 [==============================] - 0s 17ms/step - loss: 0.0047\n",
      "Epoch 61/100\n",
      "10/10 [==============================] - 0s 17ms/step - loss: 0.0045\n",
      "Epoch 62/100\n",
      "10/10 [==============================] - 0s 17ms/step - loss: 0.0047\n",
      "Epoch 63/100\n",
      "10/10 [==============================] - 0s 19ms/step - loss: 0.0048\n",
      "Epoch 64/100\n",
      "10/10 [==============================] - 0s 18ms/step - loss: 0.0058\n",
      "Epoch 65/100\n",
      "10/10 [==============================] - 0s 20ms/step - loss: 0.0036\n",
      "Epoch 66/100\n",
      "10/10 [==============================] - 0s 17ms/step - loss: 0.0038\n",
      "Epoch 67/100\n",
      "10/10 [==============================] - 0s 16ms/step - loss: 0.0043\n",
      "Epoch 68/100\n",
      "10/10 [==============================] - 0s 16ms/step - loss: 0.0038\n",
      "Epoch 69/100\n",
      "10/10 [==============================] - 0s 19ms/step - loss: 0.0037\n",
      "Epoch 70/100\n",
      "10/10 [==============================] - 0s 19ms/step - loss: 0.0042\n",
      "Epoch 71/100\n",
      "10/10 [==============================] - 0s 18ms/step - loss: 0.0045\n",
      "Epoch 72/100\n",
      "10/10 [==============================] - 0s 17ms/step - loss: 0.0042\n",
      "Epoch 73/100\n",
      "10/10 [==============================] - 0s 18ms/step - loss: 0.0035\n",
      "Epoch 74/100\n",
      "10/10 [==============================] - 0s 18ms/step - loss: 0.0045\n",
      "Epoch 75/100\n",
      "10/10 [==============================] - 0s 17ms/step - loss: 0.0041\n",
      "Epoch 76/100\n",
      "10/10 [==============================] - 0s 18ms/step - loss: 0.0045\n",
      "Epoch 77/100\n",
      "10/10 [==============================] - 0s 20ms/step - loss: 0.0034\n",
      "Epoch 78/100\n",
      "10/10 [==============================] - 0s 18ms/step - loss: 0.0041\n",
      "Epoch 79/100\n",
      "10/10 [==============================] - 0s 17ms/step - loss: 0.0038\n",
      "Epoch 80/100\n",
      "10/10 [==============================] - 0s 22ms/step - loss: 0.0035\n",
      "Epoch 81/100\n",
      "10/10 [==============================] - 0s 17ms/step - loss: 0.0037\n",
      "Epoch 82/100\n",
      "10/10 [==============================] - 0s 18ms/step - loss: 0.0033\n",
      "Epoch 83/100\n",
      "10/10 [==============================] - 0s 21ms/step - loss: 0.0041\n",
      "Epoch 84/100\n",
      "10/10 [==============================] - 0s 18ms/step - loss: 0.0041\n",
      "Epoch 85/100\n",
      "10/10 [==============================] - 0s 17ms/step - loss: 0.0033\n",
      "Epoch 86/100\n",
      "10/10 [==============================] - 0s 17ms/step - loss: 0.0039\n",
      "Epoch 87/100\n",
      "10/10 [==============================] - 0s 23ms/step - loss: 0.0037\n",
      "Epoch 88/100\n",
      "10/10 [==============================] - 0s 21ms/step - loss: 0.0038\n",
      "Epoch 89/100\n",
      "10/10 [==============================] - 0s 25ms/step - loss: 0.0033\n",
      "Epoch 90/100\n",
      "10/10 [==============================] - 0s 18ms/step - loss: 0.0035\n",
      "Epoch 91/100\n",
      "10/10 [==============================] - 0s 17ms/step - loss: 0.0042\n",
      "Epoch 92/100\n",
      "10/10 [==============================] - 0s 17ms/step - loss: 0.0043\n",
      "Epoch 93/100\n",
      "10/10 [==============================] - 0s 18ms/step - loss: 0.0037\n",
      "Epoch 94/100\n",
      "10/10 [==============================] - 0s 16ms/step - loss: 0.0035\n",
      "Epoch 95/100\n",
      "10/10 [==============================] - 0s 19ms/step - loss: 0.0041\n",
      "Epoch 96/100\n",
      "10/10 [==============================] - 0s 17ms/step - loss: 0.0039\n",
      "Epoch 97/100\n",
      "10/10 [==============================] - 0s 22ms/step - loss: 0.0030\n",
      "Epoch 98/100\n",
      "10/10 [==============================] - 0s 18ms/step - loss: 0.0045\n",
      "Epoch 99/100\n",
      "10/10 [==============================] - 0s 20ms/step - loss: 0.0039\n",
      "Epoch 100/100\n",
      "10/10 [==============================] - 0s 19ms/step - loss: 0.0038\n"
     ]
    },
    {
     "data": {
      "text/plain": [
       "<keras.callbacks.History at 0x20bf1ad7fa0>"
      ]
     },
     "execution_count": 6,
     "metadata": {},
     "output_type": "execute_result"
    }
   ],
   "source": [
    "algo = Sequential()\n",
    "algo.add(LSTM(units = 50, return_sequences = True, input_shape = (x_train.shape[1], 1)))\n",
    "algo.add(Dropout(0.2))\n",
    "algo.add(LSTM(units = 50, return_sequences = True))\n",
    "algo.add(Dropout(0.2))\n",
    "algo.add(LSTM(units = 50, return_sequences = True))\n",
    "algo.add(Dropout(0.2))\n",
    "algo.add(LSTM(units = 50))\n",
    "algo.add(Dropout(0.2))\n",
    "algo.add(Dense(units = 1))\n",
    "algo.compile(optimizer = 'adam', loss = 'mean_squared_error')\n",
    "algo.fit(x_train, y_train, epochs = 100, batch_size = 32)"
   ]
  },
  {
   "cell_type": "code",
   "execution_count": 7,
   "metadata": {},
   "outputs": [
    {
     "name": "stdout",
     "output_type": "stream",
     "text": [
      "(70, 1, 1)\n"
     ]
    }
   ],
   "source": [
    "data_train = df.iloc[:300, 1:2]\n",
    "data_test = df.iloc[300:, 1:2]\n",
    "data_total = pd.concat((data_train, data_test), axis = 0)\n",
    "total_input = data_total[len(data_total) - len(data_test) - 1:].values\n",
    "total_input = total_input.reshape(-1,1)\n",
    "total_input = sc.transform(total_input)\n",
    "x_test = []\n",
    "for iter in range(1, 71):\n",
    "    x_test.append(total_input[iter-1:iter, 0])\n",
    "x_test = np.array(x_test)\n",
    "x_test = np.reshape(x_test, (x_test.shape[0], x_test.shape[1], 1))\n",
    "print(x_test.shape)"
   ]
  },
  {
   "cell_type": "code",
   "execution_count": 8,
   "metadata": {},
   "outputs": [
    {
     "name": "stdout",
     "output_type": "stream",
     "text": [
      "3/3 [==============================] - 4s 4ms/step\n"
     ]
    }
   ],
   "source": [
    "predicted_price = algo.predict(x_test)\n",
    "predicted_price = sc.inverse_transform(predicted_price)"
   ]
  },
  {
   "cell_type": "code",
   "execution_count": 9,
   "metadata": {},
   "outputs": [
    {
     "data": {
      "image/png": "[encoded data removed]",
      "text/plain": [
       "<Figure size 640x480 with 1 Axes>"
      ]
     },
     "metadata": {},
     "output_type": "display_data"
    }
   ],
   "source": [
    "plt.plot(df.loc[300:, 'Date'],data_test.values, color = 'red', label = 'Real Aditya Birla Fin. Ltd. Stock Price')\n",
    "plt.plot(df.loc[300:, 'Date'],predicted_price, color = 'blue', label = 'Predicted Aditya Birla Fin. Ltd. Stock Price')\n",
    "plt.xticks(np.arange(0,109,20))\n",
    "plt.title('Aditya Birla Fin. Ltd. Stock Price Prediction')\n",
    "plt.xlabel('Time')\n",
    "plt.ylabel('Aditya Birla Fin. Ltd. Stock Price')\n",
    "plt.legend()\n",
    "plt.show()"
   ]
  }
 ],
 "metadata": {
  "kernelspec": {
   "display_name": "Python 3",
   "language": "python",
   "name": "python3"
  },
  "language_info": {
   "codemirror_mode": {
    "name": "ipython",
    "version": 3
   },
   "file_extension": ".py",
   "mimetype": "text/x-python",
   "name": "python",
   "nbconvert_exporter": "python",
   "pygments_lexer": "ipython3",
   "version": "3.9.6"
  },
  "orig_nbformat": 4
 },
 "nbformat": 4,
 "nbformat_minor": 2
}
